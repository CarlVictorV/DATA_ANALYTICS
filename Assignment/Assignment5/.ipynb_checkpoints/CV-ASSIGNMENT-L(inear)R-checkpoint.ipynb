{
 "cells": [
  {
   "cell_type": "markdown",
   "id": "ac491ad8",
   "metadata": {},
   "source": [
    "# Instructions:\n",
    "---\n",
    "\n",
    "1. Choose a data from https://archive.ics.uci.edu\n",
    "2. Perform regression analysis on your chosen dataset"
   ]
  },
  {
   "cell_type": "code",
   "execution_count": 2,
   "id": "dec960ef",
   "metadata": {},
   "outputs": [
    {
     "name": "stdout",
     "output_type": "stream",
     "text": [
      "{'uci_id': 92, 'name': 'Challenger USA Space Shuttle O-Ring', 'repository_url': 'https://archive.ics.uci.edu/dataset/92/challenger+usa+space+shuttle+o+ring', 'data_url': 'https://archive.ics.uci.edu/static/public/92/data.csv', 'abstract': 'Task: predict the number of O-rings that experience thermal distress on a flight at 31 degrees F given data on the previous 23 shuttle flights', 'area': 'Physics and Chemistry', 'tasks': ['Regression'], 'characteristics': ['Multivariate'], 'num_instances': 23, 'num_features': 4, 'feature_types': ['Integer'], 'demographics': [], 'target_col': ['num_O_rings'], 'index_col': None, 'has_missing_values': 'no', 'missing_values_symbol': None, 'year_of_dataset_creation': 1993, 'last_updated': 'Sat Mar 09 2024', 'dataset_doi': '10.24432/C5PW2T', 'creators': ['David Draper'], 'intro_paper': None, 'additional_info': {'summary': 'There are two databases: (both use the same set of 5 attributes):\\r\\n1. Primary o-ring erosion and/or blowby\\r\\n2. Primary o-ring erosion only\\r\\n\\r\\nThe two databases are identical except for the 2nd attribute of the 21st instance (confirmed by David Draper on 8/5/93).\\r\\n\\r\\nEdited from (Draper, 1993):\\r\\n\\r\\nThe motivation for collecting this database was the explosion of the USA Space Shuttle Challenger on 28 January, 1986.  An investigation ensued into the reliability of the shuttle\\'s propulsion system.  The explosion was eventually traced to the failure of one of the three field joints on one of the two solid booster rockets.  Each of these six field joints includes two O-rings, designated as primary and secondary, which fail when phenomena called erosion and blowby both occur. \\r\\n\\r\\nThe night before the launch a decision had to be made regarding launch safety.  The discussion among engineers and managers leading to this decision included concern that the probability of failure of the O-rings depended on the temperature t at launch, which was forecase to be 31 degrees F. There are strong engineering reasons based on the composition of O-rings to support the judgment that failure probability may rise monotonically as temperature drops.  One other variable, the pressure s at which safety testing for field join leaks was performed, was available, but its relevance to the failure process was unclear.\\r\\n       \\r\\nDraper\\'s paper includes a menacing figure graphing the number of field joints experiencing stress vs. liftoff temperature for the 23 shuttle flights previous to the Challenger disaster.  No previous liftoff temperature was under 53 degrees F.  Although tremendous extrapolation must be done from the given data to assess risk at 31 degrees F, it is obvious even to the layman \"to foresee the unacceptably high risk created by launching at 31 degrees F.\"  For more information, see Draper (1993) or the other previous analyses.\\r\\n       \\r\\nThe task is to predict the number of O-rings that will experience thermal distress for a given flight when the launch temperature is below freezing.', 'purpose': None, 'funded_by': None, 'instances_represent': None, 'recommended_data_splits': None, 'sensitive_data': None, 'preprocessing_description': None, 'variable_info': '     1. Number of O-rings at risk on a given flight\\r\\n     2. Number experiencing thermal distress\\r\\n     3. Launch temperature (degrees F)\\r\\n     4. Leak-check pressure (psi)\\r\\n     5. Temporal order of flight', 'citation': None}}\n",
      "                   name     role     type demographic description units  \\\n",
      "0           num_O_rings   Target  Integer        None        None  None   \n",
      "1  num_thermal_distress  Feature  Integer        None        None  None   \n",
      "2           launch_temp  Feature  Integer        None        None     F   \n",
      "3   leak_check_pressure  Feature  Integer        None        None   psi   \n",
      "4        temporal_order  Feature  Integer        None        None  None   \n",
      "\n",
      "  missing_values  \n",
      "0             no  \n",
      "1             no  \n",
      "2             no  \n",
      "3             no  \n",
      "4             no  \n"
     ]
    }
   ],
   "source": [
    "from ucimlrepo import fetch_ucirepo \n",
    "  \n",
    "# fetch dataset \n",
    "challenger_usa_space_shuttle_o_ring = fetch_ucirepo(id=92) \n",
    "  \n",
    "# data (as pandas dataframes) \n",
    "X = challenger_usa_space_shuttle_o_ring.data.features \n",
    "y = challenger_usa_space_shuttle_o_ring.data.targets \n",
    "  \n",
    "# metadata \n",
    "print(challenger_usa_space_shuttle_o_ring.metadata) \n",
    "  \n",
    "# variable information \n",
    "print(challenger_usa_space_shuttle_o_ring.variables) \n"
   ]
  },
  {
   "cell_type": "code",
   "execution_count": 5,
   "id": "051f3c3e",
   "metadata": {},
   "outputs": [
    {
     "ename": "IndexError",
     "evalue": "only integers, slices (`:`), ellipsis (`...`), numpy.newaxis (`None`) and integer or boolean arrays are valid indices",
     "output_type": "error",
     "traceback": [
      "\u001b[1;31m---------------------------------------------------------------------------\u001b[0m",
      "\u001b[1;31mIndexError\u001b[0m                                Traceback (most recent call last)",
      "Cell \u001b[1;32mIn[5], line 13\u001b[0m\n\u001b[0;32m      9\u001b[0m regressor\u001b[38;5;241m.\u001b[39mfit(X_train, y_train)\n\u001b[0;32m     11\u001b[0m y_pred \u001b[38;5;241m=\u001b[39m regressor\u001b[38;5;241m.\u001b[39mpredict(X_test)\n\u001b[1;32m---> 13\u001b[0m df \u001b[38;5;241m=\u001b[39m pd\u001b[38;5;241m.\u001b[39mDataFrame({\u001b[38;5;124m'\u001b[39m\u001b[38;5;124mActual\u001b[39m\u001b[38;5;124m'\u001b[39m: y_test[\u001b[38;5;124m'\u001b[39m\u001b[38;5;124mnum_O_rings\u001b[39m\u001b[38;5;124m'\u001b[39m], \u001b[38;5;124m'\u001b[39m\u001b[38;5;124mPredicted\u001b[39m\u001b[38;5;124m'\u001b[39m: y_pred[\u001b[38;5;124m'\u001b[39m\u001b[38;5;124mnum_O_rings\u001b[39m\u001b[38;5;124m'\u001b[39m]})\n\u001b[0;32m     15\u001b[0m \u001b[38;5;28mprint\u001b[39m(df)\n\u001b[0;32m     17\u001b[0m \u001b[38;5;28mprint\u001b[39m(\u001b[38;5;124m'\u001b[39m\u001b[38;5;124mMean Squared Error:\u001b[39m\u001b[38;5;124m'\u001b[39m, mean_squared_error(y_test, y_pred))\n",
      "\u001b[1;31mIndexError\u001b[0m: only integers, slices (`:`), ellipsis (`...`), numpy.newaxis (`None`) and integer or boolean arrays are valid indices"
     ]
    }
   ],
   "source": [
    "from sklearn.model_selection import train_test_split\n",
    "from sklearn.linear_model import LinearRegression\n",
    "from sklearn.metrics import mean_squared_error, r2_score\n",
    "import pandas as pd"
   ]
  },
  {
   "cell_type": "code",
   "execution_count": null,
   "id": "d8f4b703",
   "metadata": {},
   "outputs": [],
   "source": []
  }
 ],
 "metadata": {
  "kernelspec": {
   "display_name": "Python 3 (ipykernel)",
   "language": "python",
   "name": "python3"
  },
  "language_info": {
   "codemirror_mode": {
    "name": "ipython",
    "version": 3
   },
   "file_extension": ".py",
   "mimetype": "text/x-python",
   "name": "python",
   "nbconvert_exporter": "python",
   "pygments_lexer": "ipython3",
   "version": "3.11.4"
  }
 },
 "nbformat": 4,
 "nbformat_minor": 5
}
